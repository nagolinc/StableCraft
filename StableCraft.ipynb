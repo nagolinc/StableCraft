{
 "cells": [
  {
   "cell_type": "markdown",
   "metadata": {
    "colab_type": "text",
    "id": "view-in-github"
   },
   "source": [
    "<a href=\"https://colab.research.google.com/github/nagolinc/StableCraft/blob/main/StableCraft.ipynb\" target=\"_parent\"><img src=\"https://colab.research.google.com/assets/colab-badge.svg\" alt=\"Open In Colab\"/></a>"
   ]
  },
  {
   "cell_type": "code",
   "execution_count": null,
   "metadata": {
    "id": "1OcpQv1bMUAg"
   },
   "outputs": [],
   "source": [
    "!pip install git+https://github.com/openai/whisper.git \n",
    "!pip install transformers\n",
    "!pip install gradio"
   ]
  },
  {
   "cell_type": "code",
   "execution_count": null,
   "metadata": {
    "id": "GNSq52_cOHp0"
   },
   "outputs": [],
   "source": [
    "!pip install flask-ngrok2"
   ]
  },
  {
   "cell_type": "code",
   "execution_count": null,
   "metadata": {
    "id": "KB1ukrPsOhr7"
   },
   "outputs": [],
   "source": [
    "!pip install diffusers"
   ]
  },
  {
   "cell_type": "code",
   "execution_count": null,
   "metadata": {
    "id": "xpzXa46INRWH"
   },
   "outputs": [],
   "source": [
    "!git clone https://github.com/nagolinc/StableCraft.git"
   ]
  },
  {
   "cell_type": "code",
   "execution_count": null,
   "metadata": {
    "id": "3dOGmY7vNqe7"
   },
   "outputs": [],
   "source": [
    "cd StableCraft"
   ]
  },
  {
   "cell_type": "code",
   "execution_count": null,
   "metadata": {
    "id": "naJpnSmfNCez"
   },
   "outputs": [],
   "source": [
    "import os\n",
    "os.environ[\"HF_TOKEN\"]=<your token here>#huggingface token\n",
    "os.environ[\"NGROK_TOKEN\"]=<your token here>#ngrok token"
   ]
  },
  {
   "cell_type": "code",
   "execution_count": null,
   "metadata": {
    "id": "iAlvCNGXQbaf"
   },
   "outputs": [],
   "source": []
  },
  {
   "cell_type": "code",
   "execution_count": null,
   "metadata": {
    "id": "kS6TUFDeODVi"
   },
   "outputs": [],
   "source": [
    "#!python flask_app.py --diffusion_model hakurei/waifu-diffusion\n",
    "!python flask_app.py --diffusion_model doohickey/doodad  --no_fp16"
   ]
  },
  {
   "cell_type": "code",
   "execution_count": null,
   "metadata": {
    "id": "4mMv_aaZOWbM"
   },
   "outputs": [],
   "source": [
    "import torch\n",
    "from transformers import pipeline\n",
    "from transformers import AutoTokenizer, AutoModelForCausalLM\n",
    "\n",
    "TestPromptGeneration=False\n",
    "\n",
    "if TestPromptGeneration:\n",
    "  tokenizer = AutoTokenizer.from_pretrained(\"EleutherAI/gpt-neo-1.3B\",torch_dtype=torch.float16)\n",
    "  text_model = AutoModelForCausalLM.from_pretrained(\"EleutherAI/gpt-neo-1.3B\",torch_dtype=torch.float16)\n",
    "  generator = pipeline(task=\"text-generation\", model=text_model, tokenizer=tokenizer,device=0)\n"
   ]
  },
  {
   "cell_type": "code",
   "execution_count": null,
   "metadata": {
    "id": "YB7CqOHROmho"
   },
   "outputs": [],
   "source": [
    "prompts=['abstract sculpture of a cat by Jeff Koons','ancient roman sculpture of a cat','a butter sculpture of a cat, a cat made out of butter','a bronze statue of a cat']"
   ]
  },
  {
   "cell_type": "code",
   "execution_count": null,
   "metadata": {
    "id": "yvVzcDzDOyUC"
   },
   "outputs": [],
   "source": [
    "if TestPromptGeneration:\n",
    "  textInput=\"\\ndescription:\\n\".join([s.strip() for s in prompts])\n",
    "  output=generator(textInput,max_new_tokens=200,return_full_text=False)[0]['generated_text']\n",
    "  print(output)"
   ]
  },
  {
   "cell_type": "code",
   "execution_count": null,
   "metadata": {
    "id": "fdtQAT4IdHr8"
   },
   "outputs": [],
   "source": [
    "#save your project to a zip file (which can then be shared anywhere, no colab needed!)\n",
    "!zip -r sampleProject.zip /content/StableCraft/static"
   ]
  },
  {
   "cell_type": "code",
   "execution_count": null,
   "metadata": {
    "id": "K68qChndHkAb"
   },
   "outputs": [],
   "source": []
  }
 ],
 "metadata": {
  "accelerator": "GPU",
  "colab": {
   "authorship_tag": "ABX9TyM/zbf6HI0UncRb303iSZ5o",
   "collapsed_sections": [],
   "include_colab_link": true,
   "private_outputs": true,
   "provenance": []
  },
  "kernelspec": {
   "display_name": "Python 3 (ipykernel)",
   "language": "python",
   "name": "python3"
  },
  "language_info": {
   "codemirror_mode": {
    "name": "ipython",
    "version": 3
   },
   "file_extension": ".py",
   "mimetype": "text/x-python",
   "name": "python",
   "nbconvert_exporter": "python",
   "pygments_lexer": "ipython3",
   "version": "3.10.8"
  }
 },
 "nbformat": 4,
 "nbformat_minor": 1
}
