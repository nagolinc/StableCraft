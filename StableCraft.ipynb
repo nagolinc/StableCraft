{
  "nbformat": 4,
  "nbformat_minor": 0,
  "metadata": {
    "colab": {
      "provenance": [],
      "collapsed_sections": [],
      "private_outputs": true,
      "machine_shape": "hm",
      "authorship_tag": "ABX9TyOGYOxRZhHppVqR9m2S4n8z",
      "include_colab_link": true
    },
    "kernelspec": {
      "name": "python3",
      "display_name": "Python 3"
    },
    "language_info": {
      "name": "python"
    },
    "accelerator": "GPU"
  },
  "cells": [
    {
      "cell_type": "markdown",
      "metadata": {
        "id": "view-in-github",
        "colab_type": "text"
      },
      "source": [
        "<a href=\"https://colab.research.google.com/github/nagolinc/StableCraft/blob/main/StableCraft.ipynb\" target=\"_parent\"><img src=\"https://colab.research.google.com/assets/colab-badge.svg\" alt=\"Open In Colab\"/></a>"
      ]
    },
    {
      "cell_type": "code",
      "execution_count": null,
      "metadata": {
        "id": "1OcpQv1bMUAg"
      },
      "outputs": [],
      "source": [
        "!pip install git+https://github.com/openai/whisper.git \n",
        "!pip install transformers\n",
        "!pip install gradio"
      ]
    },
    {
      "cell_type": "code",
      "source": [
        "!pip install flask-ngrok2"
      ],
      "metadata": {
        "id": "GNSq52_cOHp0"
      },
      "execution_count": null,
      "outputs": []
    },
    {
      "cell_type": "code",
      "source": [
        "!pip install diffusers"
      ],
      "metadata": {
        "id": "KB1ukrPsOhr7"
      },
      "execution_count": null,
      "outputs": []
    },
    {
      "cell_type": "code",
      "source": [
        "!git clone https://github.com/nagolinc/StableCraft.git"
      ],
      "metadata": {
        "id": "xpzXa46INRWH"
      },
      "execution_count": null,
      "outputs": []
    },
    {
      "cell_type": "code",
      "source": [
        "cd StableCraft"
      ],
      "metadata": {
        "id": "3dOGmY7vNqe7"
      },
      "execution_count": null,
      "outputs": []
    },
    {
      "cell_type": "code",
      "source": [
        "import os\n",
        "os.environ[\"HF_TOKEN\"]=<your token here>\n",
        "os.environ[\"NGROK_TOKEN\"]=<your token here>"
      ],
      "metadata": {
        "id": "naJpnSmfNCez"
      },
      "execution_count": null,
      "outputs": []
    },
    {
      "cell_type": "code",
      "source": [],
      "metadata": {
        "id": "iAlvCNGXQbaf"
      },
      "execution_count": null,
      "outputs": []
    },
    {
      "cell_type": "code",
      "source": [
        "!python flask_app.py --diffusion_model hakurei/waifu-diffusion"
      ],
      "metadata": {
        "id": "kS6TUFDeODVi"
      },
      "execution_count": null,
      "outputs": []
    }
  ]
}